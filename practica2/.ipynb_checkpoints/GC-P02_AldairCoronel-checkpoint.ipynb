{
 "cells": [
  {
   "cell_type": "markdown",
   "metadata": {},
   "source": [
    "# Genómica Computacional\n",
    "## Práctica 02 - Herramientas bioinformáticas (Python)\n",
    "### Aldair Coronel Ruiz"
   ]
  },
  {
   "cell_type": "markdown",
   "metadata": {},
   "source": [
    "#### Programa \\#1 "
   ]
  },
  {
   "cell_type": "code",
   "execution_count": 6,
   "metadata": {},
   "outputs": [
    {
     "name": "stdout",
     "output_type": "stream",
     "text": [
      "El total de la compra es: $ 90\n",
      "El total de la compra es: $ 100\n",
      "El total de la compra es: $ 90.9\n",
      "El total de la compra es: $ 180.0\n"
     ]
    }
   ],
   "source": [
    "def descuento(compra):\n",
    "    if (compra > 100):\n",
    "        compra *= .90\n",
    "    print(\"El total de la compra es: $\", compra)\n",
    "    \n",
    "# Pruebas\n",
    "descuento(90)\n",
    "descuento(100)\n",
    "descuento(101)\n",
    "descuento(200)"
   ]
  },
  {
   "cell_type": "markdown",
   "metadata": {},
   "source": [
    "#### Programa \\#2"
   ]
  },
  {
   "cell_type": "code",
   "execution_count": 8,
   "metadata": {},
   "outputs": [
    {
     "name": "stdout",
     "output_type": "stream",
     "text": [
      "El área del triagulo es: 50.00\n",
      "El área del triagulo es: 52.50\n",
      "El área del triagulo es: 47.50\n",
      "El área del triagulo es: 22.50\n"
     ]
    }
   ],
   "source": [
    "def area_triangulo(b, h):\n",
    "    area = (b * h) / 2\n",
    "    print(\"El área del triagulo es: {:.2f}\".format(area))\n",
    "    \n",
    "# Pruebas\n",
    "area_triangulo(10, 10)\n",
    "area_triangulo(15, 7)\n",
    "area_triangulo(19, 5)\n",
    "area_triangulo(5, 9)"
   ]
  },
  {
   "cell_type": "markdown",
   "metadata": {},
   "source": [
    "#### Programa \\#3"
   ]
  },
  {
   "cell_type": "code",
   "execution_count": 13,
   "metadata": {},
   "outputs": [
    {
     "name": "stdout",
     "output_type": "stream",
     "text": [
      "El IMC es: 23.4\n",
      "El IMC es: 27.5\n",
      "El IMC es: 26.5\n",
      "El IMC es: 24.9\n"
     ]
    }
   ],
   "source": [
    "def imc(kg, m):\n",
    "    imc = kg / (m**2)\n",
    "    print(\"El IMC es: {:.1f}\".format(imc))\n",
    "    \n",
    "# Pruebas\n",
    "imc(74, 1.78)\n",
    "imc(87, 1.78)\n",
    "imc(84, 1.78)\n",
    "imc(79, 1.78)"
   ]
  }
 ],
 "metadata": {
  "kernelspec": {
   "display_name": "Python 3",
   "language": "python",
   "name": "python3"
  },
  "language_info": {
   "codemirror_mode": {
    "name": "ipython",
    "version": 3
   },
   "file_extension": ".py",
   "mimetype": "text/x-python",
   "name": "python",
   "nbconvert_exporter": "python",
   "pygments_lexer": "ipython3",
   "version": "3.8.1"
  }
 },
 "nbformat": 4,
 "nbformat_minor": 4
}
